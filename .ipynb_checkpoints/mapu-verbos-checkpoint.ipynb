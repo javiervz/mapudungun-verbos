{
 "cells": [
  {
   "cell_type": "code",
   "execution_count": 57,
   "id": "851669c9",
   "metadata": {},
   "outputs": [],
   "source": [
    "## lectura verbos - lista kimeltuwe\n",
    "\n",
    "import pandas as pd\n",
    "\n",
    "verbos = pd.read_excel('verbos.xlsx')  "
   ]
  },
  {
   "cell_type": "code",
   "execution_count": 11,
   "id": "de0769f5",
   "metadata": {},
   "outputs": [],
   "source": [
    "verbos = dict(zip(verbos['verbo'],verbos['significado']))"
   ]
  },
  {
   "cell_type": "code",
   "execution_count": 12,
   "id": "e207050e",
   "metadata": {},
   "outputs": [
    {
     "data": {
      "text/plain": [
       "{'men': 'hacer caca',\n",
       " 'willen': 'orinar',\n",
       " 'pewman': 'soñar',\n",
       " 'reküluwün': 'apoyarse',\n",
       " 'witxan': 'tirar',\n",
       " 'txanawün': 'echarse',\n",
       " 'lüpülen': 'estar boca abajo',\n",
       " 'payhalen': 'estar de espaldas',\n",
       " 'firkümüwün': 'refrescarse',\n",
       " 'wazkümün': 'hacer hervir',\n",
       " 'wenuntun': 'subir, alzar',\n",
       " 'küpan': 'venir',\n",
       " 'ültxen': 'empujar',\n",
       " 'naqümün': 'bajar',\n",
       " 'knün': 'entrar',\n",
       " 'chaliwün': 'saludar',\n",
       " 'azkintun': 'observar',\n",
       " 'wiman': 'azotar',\n",
       " 'güman': 'llorar',\n",
       " 'ramtun': 'preguntar',\n",
       " 'mütxowün': 'sacudir',\n",
       " 'zugun': 'hablar',\n",
       " 'katxün': 'cortar',\n",
       " 'kullin': 'pagar',\n",
       " 'miyawün': 'andar',\n",
       " 'txafkintun': 'hacer trueque',\n",
       " 'in': 'comer',\n",
       " 'welukan': 'vender',\n",
       " 'purun': 'bailar',\n",
       " 'gillan': 'comprar',\n",
       " 'kimuwün': 'conocerse',\n",
       " 'elun': 'dar',\n",
       " 'kuzun': 'acostarse',\n",
       " 'ginulün': 'sonarse',\n",
       " 'umawtun': 'dormir',\n",
       " 'arofün': 'transpirar',\n",
       " 'txepen': 'despertar',\n",
       " 'choñiwün': 'aburrirse',\n",
       " 'akun': 'llegar acá',\n",
       " 'ütxüfün': 'lanzar',\n",
       " 'puwün': 'llegar allá',\n",
       " 'txipan': 'salir',\n",
       " 'amun': 'ir',\n",
       " 'rakizuamün': 'pensar',\n",
       " 'lukutun': 'arrodillarse',\n",
       " 'potxogkülen': 'estar encorvado',\n",
       " 'afmatun': 'sorprenderse'}"
      ]
     },
     "execution_count": 12,
     "metadata": {},
     "output_type": "execute_result"
    }
   ],
   "source": [
    "verbos"
   ]
  },
  {
   "cell_type": "code",
   "execution_count": 64,
   "id": "444cd57c",
   "metadata": {},
   "outputs": [],
   "source": [
    "## mini experimento con inversión!"
   ]
  },
  {
   "cell_type": "code",
   "execution_count": 96,
   "id": "ea676bab",
   "metadata": {},
   "outputs": [],
   "source": [
    "verbos = {'chaliwü':'saludar', 'pe':'ver', 'kon':'entrar', 'txipa':'salir', 'pi':'decir', 'aku':'llegar aquí'}"
   ]
  },
  {
   "cell_type": "code",
   "execution_count": 105,
   "id": "c05644a6",
   "metadata": {},
   "outputs": [],
   "source": [
    "inv = {'leli':True, 'chaliwü':True, 'pe':True,'kon':False, 'txipa':False, 'pi':False, 'aku':False}"
   ]
  },
  {
   "cell_type": "code",
   "execution_count": 106,
   "id": "ba280395",
   "metadata": {},
   "outputs": [],
   "source": [
    "## indicativo-persona: páginas 105-106  \n",
    "## https://www.cepchile.cl/cep/site/docs/20160304/20160304094227/libro_Mapudungun_Fernando-Zuniga.pdf\n",
    "indicativo_persona = {}\n",
    "\n",
    "indicativo_persona['vocal i'] = {'primera':{'singular':'n', 'dual':'yu', 'plural':'iñ'}, \n",
    "                                 'segunda':{'singular':'mi', 'dual':'mu', 'plural':'mün'}, \n",
    "                                 'tercera':{'singular':'', 'dual':'ngu', 'plural':'ngün'}}\n",
    "\n",
    "indicativo_persona['vocal no i'] = {'primera':{'singular':'n', 'dual':'yu', 'plural':'iñ'}, \n",
    "                                 'segunda':{'singular':'ymi', 'dual':'ymu', 'plural':'ymün'}, \n",
    "                                 'tercera':{'singular':'y', 'dual':'yngu', 'plural':'yngün'}}\n",
    "\n",
    "indicativo_persona['consonante'] = {'primera':{'singular':'ün', 'dual':'iyu', 'plural':'iyiñ'}, \n",
    "                                 'segunda':{'singular':'imi', 'dual':'imu', 'plural':'imün'}, \n",
    "                                 'tercera':{'singular':'i', 'dual':'ingu', 'plural':'ingün'}}"
   ]
  },
  {
   "cell_type": "code",
   "execution_count": 107,
   "id": "2ece3186",
   "metadata": {},
   "outputs": [],
   "source": [
    "## función vocal no i/consonante/i\n",
    "\n",
    "def terminacion(s):\n",
    "    if s.endswith('i'):\n",
    "        return 'vocal i'\n",
    "    elif s.endswith('a') or s.endswith('e') or s.endswith('o') or s.endswith('u') or s.endswith('ü'):\n",
    "        return 'vocal no i'\n",
    "    else:\n",
    "        return 'consonante'"
   ]
  },
  {
   "cell_type": "code",
   "execution_count": 108,
   "id": "8dc87d27",
   "metadata": {},
   "outputs": [],
   "source": [
    "## sufijo indicativo + persona + número\n",
    "\n",
    "def sufijo_indicativo_persona_numero(verbo, persona, numero):\n",
    "    \n",
    "    ## vocal i\n",
    "    if terminacion(verbo) == 'vocal i':\n",
    "        sufijo = indicativo_persona['vocal i'][persona][numero]\n",
    "        return sufijo\n",
    "    ## vocal no i\n",
    "    elif terminacion(verbo) == 'vocal no i':\n",
    "        sufijo = indicativo_persona['vocal no i'][persona][numero]\n",
    "        return sufijo\n",
    "    ## consonante\n",
    "    else:\n",
    "        sufijo = indicativo_persona['consonante'][persona][numero]\n",
    "        return sufijo"
   ]
  },
  {
   "cell_type": "code",
   "execution_count": 109,
   "id": "3032e710",
   "metadata": {},
   "outputs": [],
   "source": [
    "## polaridad\n",
    "\n",
    "def sufijo_polaridad(polaridad):\n",
    "    if polaridad == 'positiva':\n",
    "        return ''\n",
    "    else:\n",
    "        return 'la'"
   ]
  },
  {
   "cell_type": "code",
   "execution_count": 110,
   "id": "483a46d8",
   "metadata": {},
   "outputs": [],
   "source": [
    "## función inflexión: puede ir creciendo\n",
    "\n",
    "def inflexion(verbo, persona, numero, polaridad):\n",
    "    ## el orden es importante: base + polaridad + indicativo/persona/número\n",
    "    return verbo + sufijo_polaridad(polaridad) + sufijo_indicativo_persona_numero(verbo, persona, numero)"
   ]
  },
  {
   "cell_type": "code",
   "execution_count": 111,
   "id": "d45e1dbe",
   "metadata": {},
   "outputs": [
    {
     "data": {
      "text/plain": [
       "'küpalan'"
      ]
     },
     "execution_count": 111,
     "metadata": {},
     "output_type": "execute_result"
    }
   ],
   "source": [
    "inflexion('küpa', 'primera', 'singular', 'negativa')"
   ]
  },
  {
   "cell_type": "code",
   "execution_count": 140,
   "id": "85c27c11",
   "metadata": {},
   "outputs": [
    {
     "name": "stdout",
     "output_type": "stream",
     "text": [
      "primera singular positiva lelin\n",
      "primera singular negativa lelilan\n",
      "primera dual positiva leliyu\n",
      "primera dual negativa lelilayu\n",
      "primera plural positiva leliiñ\n",
      "primera plural negativa lelilaiñ\n",
      "segunda singular positiva lelimi\n",
      "segunda singular negativa lelilami\n",
      "segunda dual positiva lelimu\n",
      "segunda dual negativa lelilamu\n",
      "segunda plural positiva lelimün\n",
      "segunda plural negativa lelilamün\n",
      "tercera singular positiva leli\n",
      "tercera singular negativa lelila\n",
      "tercera dual positiva lelingu\n",
      "tercera dual negativa lelilangu\n",
      "tercera plural positiva lelingün\n",
      "tercera plural negativa lelilangün\n"
     ]
    }
   ],
   "source": [
    "## probamos todo para un verbo\n",
    "verbo = 'leli' ## venir\n",
    "\n",
    "for persona in ['primera', 'segunda', 'tercera']:\n",
    "    for numero in ['singular', 'dual', 'plural']:\n",
    "        for polaridad in ['positiva', 'negativa']:\n",
    "            print(persona, numero, polaridad, inflexion(verbo, persona, numero, polaridad))"
   ]
  },
  {
   "cell_type": "markdown",
   "id": "3208f545",
   "metadata": {},
   "source": [
    "## inversión: experimentos :O\n",
    "\n",
    "página 116 del [libro de Zúñiga](https://www.cepchile.cl/cep/site/docs/20160304/20160304094227/libro_Mapudungun_Fernando-Zuniga.pdf)"
   ]
  },
  {
   "cell_type": "code",
   "execution_count": 177,
   "id": "13312a65",
   "metadata": {},
   "outputs": [],
   "source": [
    "## sufijos de inversión\n",
    "\n",
    "def sufijo_inversion(persona_sujeto,persona_objeto):\n",
    "    if persona_sujeto == 'tercera' and (persona_objeto == 'primera' or persona_objeto == 'segunda'):\n",
    "        return 'e','mew'  \n",
    "    elif (persona_sujeto == 'primera' or persona_sujeto == 'segunda') and persona_objeto == 'tercera':\n",
    "        return 'fi',''\n",
    "    else:\n",
    "        return '',''"
   ]
  },
  {
   "cell_type": "code",
   "execution_count": 188,
   "id": "4003f1f4",
   "metadata": {},
   "outputs": [],
   "source": [
    "## diccionario de modo-persona-número\n",
    "\n",
    "## primera + segunda\n",
    "indicativo_persona_inv_primera_segunda = {}\n",
    "##\n",
    "indicativo_persona_inv_primera_segunda['primera'] = {'tercera':{'singular':'ñ', 'dual':'yu', 'plural':'yiñ'}}\n",
    "indicativo_persona_inv_primera_segunda['segunda'] = {'tercera':{'singular':'mi', 'dual':'mu', 'plural':'mün'}}\n",
    "## tercera\n",
    "indicativo_persona_inv_tercera = {}\n",
    "##\n",
    "indicativo_persona_inv_tercera['primera'] = {'singular':'n', 'dual':'yu', 'plural':'iñ'}\n",
    "indicativo_persona_inv_tercera['segunda'] = {'singular':'y', 'dual':'ymu', 'plural':'ymün'}"
   ]
  },
  {
   "cell_type": "code",
   "execution_count": 189,
   "id": "3ec768ef",
   "metadata": {},
   "outputs": [],
   "source": [
    "## morfemas de inversión\n",
    "\n",
    "def inversion(verbo, persona_sujeto, numero, polaridad, persona_objeto):\n",
    "    ## ¿está correcto este orden? :O\n",
    "    if (persona_sujeto == 'primera' or persona_sujeto == 'segunda') and persona_objeto == 'tercera':\n",
    "        return verbo + sufijo_polaridad(polaridad) + sufijo_inversion(persona_sujeto,persona_objeto)[0] + indicativo_persona_inv_primera_segunda[persona_sujeto][persona_objeto][numero] + sufijo_inversion(persona_sujeto,persona_objeto)[1]\n",
    "    if persona_sujeto == 'tercera' and (persona_objeto == 'primera' or persona_objeto == 'segunda'):\n",
    "        return verbo + sufijo_polaridad(polaridad) + sufijo_inversion(persona_sujeto,persona_objeto)[0] + indicativo_persona_inv_tercera[persona_objeto][numero] + sufijo_inversion(persona_sujeto,persona_objeto)[1]\n"
   ]
  },
  {
   "cell_type": "code",
   "execution_count": 190,
   "id": "9426f17d",
   "metadata": {},
   "outputs": [],
   "source": [
    "## probamos todo para un verbo\n",
    "verbo = 'leli'#'leli' ## mirar\n",
    "persona_objeto = 'primera'\n",
    "persona_sujeto = 'tercera'\n",
    "numero = 'plural'\n",
    "polaridad = 'positiva'"
   ]
  },
  {
   "cell_type": "code",
   "execution_count": 191,
   "id": "b3b9c5fb",
   "metadata": {},
   "outputs": [
    {
     "data": {
      "text/plain": [
       "'lelieiñmew'"
      ]
     },
     "execution_count": 191,
     "metadata": {},
     "output_type": "execute_result"
    }
   ],
   "source": [
    "inversion(verbo, persona_sujeto, numero, polaridad, persona_objeto)"
   ]
  },
  {
   "cell_type": "code",
   "execution_count": null,
   "id": "aaf4cd21",
   "metadata": {},
   "outputs": [],
   "source": []
  }
 ],
 "metadata": {
  "kernelspec": {
   "display_name": "Python 3",
   "language": "python",
   "name": "python3"
  },
  "language_info": {
   "codemirror_mode": {
    "name": "ipython",
    "version": 3
   },
   "file_extension": ".py",
   "mimetype": "text/x-python",
   "name": "python",
   "nbconvert_exporter": "python",
   "pygments_lexer": "ipython3",
   "version": "3.8.8"
  }
 },
 "nbformat": 4,
 "nbformat_minor": 5
}
