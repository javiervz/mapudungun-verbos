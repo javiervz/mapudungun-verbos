{
 "cells": [
  {
   "cell_type": "code",
   "execution_count": 4,
   "id": "851669c9",
   "metadata": {},
   "outputs": [],
   "source": [
    "## lectura verbos\n",
    "\n",
    "import pandas as pd\n",
    "\n",
    "verbos = pd.read_excel('verbos.xlsx')  "
   ]
  },
  {
   "cell_type": "code",
   "execution_count": 5,
   "id": "de0769f5",
   "metadata": {},
   "outputs": [],
   "source": [
    "verbos = dict(zip(verbos['verbo'],verbos['significado']))"
   ]
  },
  {
   "cell_type": "code",
   "execution_count": 6,
   "id": "e207050e",
   "metadata": {},
   "outputs": [
    {
     "data": {
      "text/plain": [
       "{'men': 'hacer caca',\n",
       " 'willen': 'orinar',\n",
       " 'pewman': 'soñar',\n",
       " 'reküluwün': 'apoyarse',\n",
       " 'witxan': 'tirar',\n",
       " 'txanawün': 'echarse',\n",
       " 'lüpülen': 'estar boca abajo',\n",
       " 'payhalen': 'estar de espaldas',\n",
       " 'firkümüwün': 'refrescarse',\n",
       " 'wazkümün': 'hacer hervir',\n",
       " 'wenuntun': 'subir, alzar',\n",
       " 'küpan': 'venir',\n",
       " 'ültxen': 'empujar',\n",
       " 'naqümün': 'bajar',\n",
       " 'knün': 'entrar',\n",
       " 'chaliwün': 'saludar',\n",
       " 'azkintun': 'observar',\n",
       " 'wiman': 'azotar',\n",
       " 'güman': 'llorar',\n",
       " 'ramtun': 'preguntar',\n",
       " 'mütxowün': 'sacudir',\n",
       " 'zugun': 'hablar',\n",
       " 'katxün': 'cortar',\n",
       " 'kullin': 'pagar',\n",
       " 'miyawün': 'andar',\n",
       " 'txafkintun': 'hacer trueque',\n",
       " 'in': 'comer',\n",
       " 'welukan': 'vender',\n",
       " 'purun': 'bailar',\n",
       " 'gillan': 'comprar',\n",
       " 'kimuwün': 'conocerse',\n",
       " 'elun': 'dar',\n",
       " 'kuzun': 'acostarse',\n",
       " 'ginulün': 'sonarse',\n",
       " 'umawtun': 'dormir',\n",
       " 'arofün': 'transpirar',\n",
       " 'txepen': 'despertar',\n",
       " 'choñiwün': 'aburrirse',\n",
       " 'akun': 'llegar acá',\n",
       " 'ütxüfün': 'lanzar',\n",
       " 'puwün': 'llegar allá',\n",
       " 'txipan': 'salir',\n",
       " 'amun': 'ir',\n",
       " 'rakizuamün': 'pensar',\n",
       " 'lukutun': 'arrodillarse',\n",
       " 'potxogkülen': 'estar encorvado',\n",
       " 'afmatun': 'sorprenderse'}"
      ]
     },
     "execution_count": 6,
     "metadata": {},
     "output_type": "execute_result"
    }
   ],
   "source": [
    "verbos"
   ]
  },
  {
   "cell_type": "code",
   "execution_count": 33,
   "id": "ba280395",
   "metadata": {},
   "outputs": [],
   "source": [
    "## indicativo-persona: páginas 105-106\n",
    "indicativo_persona = {}\n",
    "\n",
    "indicativo_persona['vocal i'] = {'primera':{'singular':'n', 'dual':'yu', 'plural':'iñ'}, \n",
    "                                 'segunda':{'singular':'mi', 'dual':'mu', 'plural':'mün'}, \n",
    "                                 'tercera':{'singular':'', 'dual':'ngu', 'plural':'ngün'}}\n",
    "\n",
    "indicativo_persona['vocal no i'] = {'primera':{'singular':'n', 'dual':'yu', 'plural':'iñ'}, \n",
    "                                 'segunda':{'singular':'ymi', 'dual':'ymu', 'plural':'ymün'}, \n",
    "                                 'tercera':{'singular':'y', 'dual':'yngu', 'plural':'yngün'}}\n",
    "\n",
    "indicativo_persona['consonante'] = {'primera':{'singular':'ün', 'dual':'iyu', 'plural':'iyiñ'}, \n",
    "                                 'segunda':{'singular':'imi', 'dual':'imu', 'plural':'imün'}, \n",
    "                                 'tercera':{'singular':'i', 'dual':'ingu', 'plural':'ingün'}}"
   ]
  },
  {
   "cell_type": "code",
   "execution_count": 34,
   "id": "2ece3186",
   "metadata": {},
   "outputs": [],
   "source": [
    "## función vocal no i/consonante/i\n",
    "\n",
    "def terminacion(s):\n",
    "    if s.endswith('i'):\n",
    "        return 'vocal i'\n",
    "    elif s.endswith('a') or s.endswith('e') or s.endswith('o') or s.endswith('u') or s.endswith('ü'):\n",
    "        return 'vocal no i'\n",
    "    else:\n",
    "        return 'consonante'"
   ]
  },
  {
   "cell_type": "code",
   "execution_count": 38,
   "id": "8dc87d27",
   "metadata": {},
   "outputs": [],
   "source": [
    "def conjugacion(verbo, numero, persona):\n",
    "    \n",
    "    ## vocal i\n",
    "    if terminacion(verbo) == 'vocal i':\n",
    "        sufijo = indicativo_persona['vocal i'][numero][persona]\n",
    "        return verbo + sufijo\n",
    "    ## vocal no i\n",
    "    elif terminacion(verbo) == 'vocal no i':\n",
    "        sufijo = indicativo_persona['vocal no i'][numero][persona]\n",
    "        return verbo + sufijo\n",
    "    ## consonante\n",
    "    else:\n",
    "        sufijo = indicativo_persona['consonante'][numero][persona]\n",
    "        return verbo + sufijo"
   ]
  },
  {
   "cell_type": "code",
   "execution_count": 39,
   "id": "85c27c11",
   "metadata": {},
   "outputs": [
    {
     "data": {
      "text/plain": [
       "'koningu'"
      ]
     },
     "execution_count": 39,
     "metadata": {},
     "output_type": "execute_result"
    }
   ],
   "source": [
    "verbo = 'kon'\n",
    "\n",
    "conjugacion(verbo, 'tercera', 'dual')"
   ]
  },
  {
   "cell_type": "code",
   "execution_count": null,
   "id": "c259c881",
   "metadata": {},
   "outputs": [],
   "source": []
  }
 ],
 "metadata": {
  "kernelspec": {
   "display_name": "Python 3",
   "language": "python",
   "name": "python3"
  },
  "language_info": {
   "codemirror_mode": {
    "name": "ipython",
    "version": 3
   },
   "file_extension": ".py",
   "mimetype": "text/x-python",
   "name": "python",
   "nbconvert_exporter": "python",
   "pygments_lexer": "ipython3",
   "version": "3.8.8"
  }
 },
 "nbformat": 4,
 "nbformat_minor": 5
}
